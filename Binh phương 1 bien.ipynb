{
 "cells": [
  {
   "cell_type": "code",
   "execution_count": 1,
   "metadata": {},
   "outputs": [],
   "source": [
    "#binh phương 1 bien\n",
    "X = [1 , 1.3 , 1.7 , 2.]\n",
    "Y = [3.5 , 4. , 4.6 , 5.2]\n",
    "from sympy import *\n"
   ]
  },
  {
   "cell_type": "code",
   "execution_count": 2,
   "metadata": {},
   "outputs": [
    {
     "data": {
      "text/plain": [
       "[1, x, log(x)]"
      ]
     },
     "execution_count": 2,
     "metadata": {},
     "output_type": "execute_result"
    }
   ],
   "source": [
    "x = symbols ('x')\n",
    "cs = [1 + 0* x , x , log ( x ) ] # biểu thức xuất hiện biến thì mới thế biến được\n",
    "cs\n"
   ]
  },
  {
   "cell_type": "code",
   "execution_count": 3,
   "metadata": {},
   "outputs": [
    {
     "data": {
      "text/plain": [
       "[[1, 1, 1, 1],\n",
       " [1, 1.30000000000000, 1.70000000000000, 2.00000000000000],\n",
       " [0, 0.262364264467491, 0.530628251062170, 0.693147180559945]]"
      ]
     },
     "execution_count": 3,
     "metadata": {},
     "output_type": "execute_result"
    }
   ],
   "source": [
    "V = [ [ cs_i . subs (x , X_k ) for X_k in X ] for cs_i in cs ]\n",
    "V"
   ]
  },
  {
   "cell_type": "code",
   "execution_count": 4,
   "metadata": {},
   "outputs": [
    {
     "data": {
      "text/plain": [
       "[[4, 6.00000000000000, 1.48613969608961],\n",
       " [6.00000000000000, 9.58000000000000, 2.62943593173332],\n",
       " [1.48613969608961, 2.62943593173332, 0.830854362013067]]"
      ]
     },
     "execution_count": 4,
     "metadata": {},
     "output_type": "execute_result"
    }
   ],
   "source": [
    "import numpy as np\n",
    "A = [ [ np . dot ( V_i , V_j ) for V_j in V] for V_i in V ]\n",
    "A\n"
   ]
  },
  {
   "cell_type": "code",
   "execution_count": 5,
   "metadata": {},
   "outputs": [
    {
     "data": {
      "text/plain": [
       "[17.3000000000000, 26.9200000000000, 7.09471235166766]"
      ]
     },
     "execution_count": 5,
     "metadata": {},
     "output_type": "execute_result"
    }
   ],
   "source": [
    "b = [ np . dot (Y , V_i ) for V_i in V ]\n",
    "b"
   ]
  },
  {
   "cell_type": "code",
   "execution_count": 6,
   "metadata": {},
   "outputs": [
    {
     "data": {
      "text/plain": [
       "array([ 1.24242748,  2.26929847, -0.86499322])"
      ]
     },
     "execution_count": 6,
     "metadata": {},
     "output_type": "execute_result"
    }
   ],
   "source": [
    "hs = np . linalg . solve (\n",
    "np . array ( A ) . astype ( float ) ,\n",
    "np . array ( b ) . astype ( float ) )\n",
    "hs"
   ]
  },
  {
   "cell_type": "code",
   "execution_count": 7,
   "metadata": {},
   "outputs": [],
   "source": [
    "P = hs . dot ( cs )"
   ]
  },
  {
   "cell_type": "code",
   "execution_count": 8,
   "metadata": {},
   "outputs": [
    {
     "data": {
      "text/plain": [
       "[3.51172595612805, 3.96557218651277, 4.64124504437672, 5.18145681298247]"
      ]
     },
     "execution_count": 8,
     "metadata": {},
     "output_type": "execute_result"
    }
   ],
   "source": [
    "[ P . subs (x , X_k ) for X_k in X ]\n"
   ]
  },
  {
   "cell_type": "code",
   "execution_count": 9,
   "metadata": {},
   "outputs": [
    {
     "data": {
      "text/plain": [
       "[-0.0117259561280463,\n",
       " 0.0344278134872296,\n",
       " -0.0412450443767174,\n",
       " 0.0185431870175341]"
      ]
     },
     "execution_count": 9,
     "metadata": {},
     "output_type": "execute_result"
    }
   ],
   "source": [
    "errors = [ Y_k - P . subs (x , X_k ) for ( X_k , Y_k ) in zip(X , Y ) ]\n",
    "errors"
   ]
  },
  {
   "cell_type": "code",
   "execution_count": 10,
   "metadata": {},
   "outputs": [
    {
     "data": {
      "text/plain": [
       "0.05803254138009952"
      ]
     },
     "execution_count": 10,
     "metadata": {},
     "output_type": "execute_result"
    }
   ],
   "source": [
    "np . linalg . norm ( np . array ( errors ) . astype ( float ) )"
   ]
  }
 ],
 "metadata": {
  "kernelspec": {
   "display_name": "Python 3",
   "language": "python",
   "name": "python3"
  },
  "language_info": {
   "codemirror_mode": {
    "name": "ipython",
    "version": 3
   },
   "file_extension": ".py",
   "mimetype": "text/x-python",
   "name": "python",
   "nbconvert_exporter": "python",
   "pygments_lexer": "ipython3",
   "version": "3.11.2"
  },
  "orig_nbformat": 4,
  "vscode": {
   "interpreter": {
    "hash": "6c2b476750060a1b5e505667a84d1cbadbda4c8604b5790118ab05460c4cd869"
   }
  }
 },
 "nbformat": 4,
 "nbformat_minor": 2
}
