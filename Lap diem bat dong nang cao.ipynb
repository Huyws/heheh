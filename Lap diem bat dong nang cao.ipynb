{
 "cells": [
  {
   "cell_type": "code",
   "execution_count": 1,
   "metadata": {},
   "outputs": [
    {
     "data": {
      "text/plain": [
       "5.999999999999999"
      ]
     },
     "execution_count": 1,
     "metadata": {},
     "output_type": "execute_result"
    }
   ],
   "source": [
    "##lap diem bat dong\n",
    "import numpy as np\n",
    "A = [[5 , 0 , 2] , [3 , -2 , -4]]\n",
    "np . linalg . norm (A , 1)\n",
    "np . linalg . norm (A , np . inf )\n",
    "np . linalg . norm (A , 2)"
   ]
  },
  {
   "cell_type": "code",
   "execution_count": 2,
   "metadata": {},
   "outputs": [
    {
     "data": {
      "text/plain": [
       "0.5700000000000001"
      ]
     },
     "execution_count": 2,
     "metadata": {},
     "output_type": "execute_result"
    }
   ],
   "source": [
    "import numpy as np\n",
    "B = np . array ( [[ -0.21 , -0.28 , 0.05] ,\n",
    "[ 0.19 , 0.01 , -0.26] ,\n",
    "[ 0.39 , -0.12 , -0.06]] )\n",
    "g = [ -0.9 , 3.8 , -2.9]\n",
    "q = np . linalg . norm (B , np . inf )\n",
    "q"
   ]
  },
  {
   "cell_type": "code",
   "execution_count": 3,
   "metadata": {},
   "outputs": [
    {
     "name": "stdout",
     "output_type": "stream",
     "text": [
      "[-1.51  4.08 -3.08]\n",
      "[-1.8793  4.3547 -3.7937]\n",
      "[-1.914348  4.472842 -3.927869]\n"
     ]
    }
   ],
   "source": [
    "x = [0 , 2 , -1]\n",
    "for _ in range (3) :\n",
    "     x = B .dot ( x ) + g\n",
    "     print ( x )"
   ]
  },
  {
   "cell_type": "code",
   "execution_count": 4,
   "metadata": {},
   "outputs": [
    {
     "name": "stdout",
     "output_type": "stream",
     "text": [
      "[-1.51  4.08 -3.08] 2.7572093023255824\n",
      "[-1.8793  4.3547 -3.7937] 0.9460674418604651\n",
      "[-1.914348  4.472842 -3.927869] 0.17785193023255816\n"
     ]
    }
   ],
   "source": [
    "x0 = [0 , 2 , -1] # lưu x\n",
    "for _ in range (3) :\n",
    "     x = B . dot ( x0 ) + g # x\n",
    "     ss = q / (1 - q) * np . linalg . norm ( x - x0 , np . inf )\n",
    "     x0 = x # tiến thêm 1 bước\n",
    "     print (x , ss )"
   ]
  },
  {
   "cell_type": "code",
   "execution_count": 5,
   "metadata": {},
   "outputs": [
    {
     "name": "stdout",
     "output_type": "stream",
     "text": [
      "1 [-1.51  4.08 -3.08] 2.7572093023255824\n",
      "2 [-1.8793  4.3547 -3.7937] 0.9460674418604651\n",
      "3 [-1.914348  4.472842 -3.927869] 0.17785193023255816\n",
      "4 [-1.94677613  4.50224824 -3.94766462] 0.042986125813954085\n",
      "5 [-1.94918975  4.50152782 -3.9626526 ] 0.0198677904906978\n",
      "6 [-1.94923057  4.5049589  -3.96260818] 0.004548180077023621\n",
      "7 [-1.95018048  4.50497391 -3.9630385 ] 0.0012591831064359337\n",
      "8 [-1.95000672  4.50490546 -3.96338495] 0.0004592434069525706\n"
     ]
    }
   ],
   "source": [
    "x0 = [0 , 2 , -1]\n",
    "k = 0\n",
    "while True :\n",
    "     x = B . dot ( x0 ) + g\n",
    "     ss = q / (1 - q) * np . linalg . norm ( x - x0 , np . inf )\n",
    "     x0 = x\n",
    "     k += 1\n",
    "     print (k , x , ss )\n",
    "     if ss < 10** -3:\n",
    "            break\n"
   ]
  },
  {
   "cell_type": "code",
   "execution_count": 6,
   "metadata": {},
   "outputs": [
    {
     "data": {
      "text/latex": [
       "$\\displaystyle 35.5743563544289$"
      ],
      "text/plain": [
       "35.5743563544289"
      ]
     },
     "execution_count": 6,
     "metadata": {},
     "output_type": "execute_result"
    }
   ],
   "source": [
    "x0 = [0 , 2 , -1]\n",
    "x1 = B . dot ( x0 ) + g\n",
    "from sympy import log\n",
    "log ( 10** -8 * (1 - q ) / np . linalg . norm ( x1 - x0 , np . inf ) , q )"
   ]
  },
  {
   "cell_type": "code",
   "execution_count": 7,
   "metadata": {},
   "outputs": [
    {
     "name": "stdout",
     "output_type": "stream",
     "text": [
      "[-1.5100000000000002, 2, -1]\n",
      "[-1.5100000000000002, 3.7931, -1]\n",
      "[-1.5100000000000002, 3.7931, -3.8840719999999997]\n",
      "[-1.8391716000000002, 3.7931, -3.8840719999999997]\n",
      "[-1.8391716000000002, 4.498347116, -3.8840719999999997]\n",
      "[-1.8391716000000002, 4.498347116, -3.92403425792]\n",
      "[-1.969512869376, 4.498347116, -3.92403425792]\n",
      "[-1.969512869376, 4.49102493303776, -3.92403425792]\n",
      "[-1.969512869376, 4.49102493303776, -3.971590955545971]\n",
      "[-1.9424688264589114, 4.49102493303776, -3.971590955545971]\n",
      "[-1.9424688264589114, 4.508454820745137, -3.971590955545971]\n",
      "[-1.9424688264589114, 4.508454820745137, -3.9602819634756337]\n"
     ]
    }
   ],
   "source": [
    "#Seidel\n",
    "x = [0 , 2 , -1]\n",
    "for _ in range (4) : # bước lặp\n",
    "     for i in range (3) : # thành phần\n",
    "         x [ i ] = B [ i ]. dot ( x ) + g [i ] # cập nhật lần lượt từng thành phần\n",
    "         print ( x )"
   ]
  }
 ],
 "metadata": {
  "kernelspec": {
   "display_name": "Python 3",
   "language": "python",
   "name": "python3"
  },
  "language_info": {
   "codemirror_mode": {
    "name": "ipython",
    "version": 3
   },
   "file_extension": ".py",
   "mimetype": "text/x-python",
   "name": "python",
   "nbconvert_exporter": "python",
   "pygments_lexer": "ipython3",
   "version": "3.11.2"
  },
  "orig_nbformat": 4
 },
 "nbformat": 4,
 "nbformat_minor": 2
}
