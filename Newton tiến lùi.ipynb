{
 "cells": [
  {
   "cell_type": "code",
   "execution_count": 1,
   "metadata": {},
   "outputs": [],
   "source": [
    "#Newton tiến lùi\n",
    "X = [ 0, 0.5,1]\n",
    "Y = [ 5,11/4, -2]"
   ]
  },
  {
   "cell_type": "code",
   "execution_count": 2,
   "metadata": {},
   "outputs": [
    {
     "data": {
      "text/plain": [
       "[[5, 2.75, -2], [-2.25, -4.75], [-2.5]]"
      ]
     },
     "execution_count": 2,
     "metadata": {},
     "output_type": "execute_result"
    }
   ],
   "source": [
    "d = lambda k , i : Y[i] if k == 0 else d(k-1 , i+1) - d(k-1,i)\n",
    "[ [ d(k,i) for i in range (3-k)] for k in range(3)]#(có 3 số nếu có n số thì thay 3=n)"
   ]
  },
  {
   "cell_type": "code",
   "execution_count": 3,
   "metadata": {},
   "outputs": [
    {
     "data": {
      "text/latex": [
       "$\\displaystyle - 5.0 x^{2} - 2.0 x + 5$"
      ],
      "text/plain": [
       "-5.0*x**2 - 2.0*x + 5"
      ]
     },
     "execution_count": 3,
     "metadata": {},
     "output_type": "execute_result"
    }
   ],
   "source": [
    "from sympy import *\n",
    "x , t = symbols ('x t')\n",
    "P=Y[0]\n",
    "\n",
    "for k in range(1,3):# (1,3) là do có 3 kí tự \n",
    "    prod = d(k,0)/factorial(k)\n",
    "    for i in range(k):\n",
    "        prod *= t - i \n",
    "    P+= prod \n",
    "P\n",
    "P.subs(t , (x-X[0])/0.5).expand()\n",
    "#   /2 là do khoảng cách =2"
   ]
  },
  {
   "cell_type": "code",
   "execution_count": null,
   "metadata": {},
   "outputs": [],
   "source": []
  },
  {
   "cell_type": "code",
   "execution_count": null,
   "metadata": {},
   "outputs": [],
   "source": []
  }
 ],
 "metadata": {
  "kernelspec": {
   "display_name": "Python 3",
   "language": "python",
   "name": "python3"
  },
  "language_info": {
   "codemirror_mode": {
    "name": "ipython",
    "version": 3
   },
   "file_extension": ".py",
   "mimetype": "text/x-python",
   "name": "python",
   "nbconvert_exporter": "python",
   "pygments_lexer": "ipython3",
   "version": "3.11.2"
  },
  "orig_nbformat": 4,
  "vscode": {
   "interpreter": {
    "hash": "5238573367df39f7286bb46f9ff5f08f63a01a80960060ce41e3c79b190280fa"
   }
  }
 },
 "nbformat": 4,
 "nbformat_minor": 2
}
