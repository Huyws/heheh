{
 "cells": [
  {
   "cell_type": "code",
   "execution_count": 1,
   "metadata": {},
   "outputs": [],
   "source": [
    "# bậc nhất\n",
    "X = [ -0.7 , 1.7 , -4.9 , 3.1 , -1.3]\n",
    "Y = [ -2.9 , -1.1 , -2.9 , 1.5 , 0.8]\n",
    "Z = [7.1 , 5.8 , -3.1 , -1 , -8.7]\n"
   ]
  },
  {
   "cell_type": "code",
   "execution_count": 2,
   "metadata": {},
   "outputs": [
    {
     "data": {
      "text/plain": [
       "[1, x, y]"
      ]
     },
     "execution_count": 2,
     "metadata": {},
     "output_type": "execute_result"
    }
   ],
   "source": [
    "from sympy import *\n",
    "x , y = symbols ('x y')\n",
    "cs = [1 + 0* x , x , y ]\n",
    "cs"
   ]
  },
  {
   "cell_type": "code",
   "execution_count": 3,
   "metadata": {},
   "outputs": [],
   "source": [
    "V = [ [ cs_i . subs ({ x : X_k , y : Y_k }) for ( X_k , Y_k ) in zip(X , Y ) ] for cs_i in cs ]\n"
   ]
  },
  {
   "cell_type": "code",
   "execution_count": 4,
   "metadata": {},
   "outputs": [
    {
     "data": {
      "text/plain": [
       "[[5, -2.10000000000000, -4.60000000000000],\n",
       " [-2.10000000000000, 38.6900000000000, 17.9800000000000],\n",
       " [-4.60000000000000, 17.9800000000000, 20.9200000000000]]"
      ]
     },
     "execution_count": 4,
     "metadata": {},
     "output_type": "execute_result"
    }
   ],
   "source": [
    "import numpy as np\n",
    "A = [ [ np . dot ( V_i , V_j ) for V_j in V] for V_i in V ]\n",
    "A"
   ]
  },
  {
   "cell_type": "code",
   "execution_count": 5,
   "metadata": {},
   "outputs": [
    {
     "data": {
      "text/plain": [
       "[0.0999999999999996, 28.2900000000000, -26.4400000000000]"
      ]
     },
     "execution_count": 5,
     "metadata": {},
     "output_type": "execute_result"
    }
   ],
   "source": [
    "b = [ np . dot (Z , V_i ) for V_i in V ]\n",
    "b"
   ]
  },
  {
   "cell_type": "code",
   "execution_count": 6,
   "metadata": {},
   "outputs": [
    {
     "data": {
      "text/plain": [
       "array([-2.54721599,  2.3985894 , -3.88546037])"
      ]
     },
     "execution_count": 6,
     "metadata": {},
     "output_type": "execute_result"
    }
   ],
   "source": [
    "hs = np . linalg . solve (\n",
    "np . array (A , dtype = float ) ,\n",
    "np . array (b , dtype = float ) )\n",
    "hs"
   ]
  },
  {
   "cell_type": "code",
   "execution_count": 7,
   "metadata": {},
   "outputs": [],
   "source": [
    "P = hs . dot ( cs )\n",
    "\n"
   ]
  },
  {
   "cell_type": "code",
   "execution_count": 8,
   "metadata": {},
   "outputs": [
    {
     "data": {
      "text/plain": [
       "[7.04160650623886,\n",
       " 5.80439239681887,\n",
       " -3.03246897710133,\n",
       " -0.939779411764707,\n",
       " -8.77375051419169]"
      ]
     },
     "execution_count": 8,
     "metadata": {},
     "output_type": "execute_result"
    }
   ],
   "source": [
    "[ P . subs ({ x : X_k , y : Y_k }) for ( X_k , Y_k ) in zip(X , Y ) ]\n"
   ]
  },
  {
   "cell_type": "code",
   "execution_count": 9,
   "metadata": {},
   "outputs": [
    {
     "data": {
      "text/plain": [
       "[0.0583934937611410,\n",
       " -0.00439239681886594,\n",
       " -0.0675310228986707,\n",
       " -0.0602205882352926,\n",
       " 0.0737505141916905]"
      ]
     },
     "execution_count": 9,
     "metadata": {},
     "output_type": "execute_result"
    }
   ],
   "source": [
    "errors = [ Z_k - P . subs ({ x : X_k , y : Y_k }) for ( X_k , Y_k , Z_k ) in zip(X , Y , Z ) ]\n",
    "errors"
   ]
  },
  {
   "cell_type": "code",
   "execution_count": 10,
   "metadata": {},
   "outputs": [
    {
     "data": {
      "text/plain": [
       "0.1305955202452634"
      ]
     },
     "execution_count": 10,
     "metadata": {},
     "output_type": "execute_result"
    }
   ],
   "source": [
    "np . linalg . norm ( np . array ( errors , dtype = float ) )\n"
   ]
  }
 ],
 "metadata": {
  "kernelspec": {
   "display_name": "Python 3",
   "language": "python",
   "name": "python3"
  },
  "language_info": {
   "codemirror_mode": {
    "name": "ipython",
    "version": 3
   },
   "file_extension": ".py",
   "mimetype": "text/x-python",
   "name": "python",
   "nbconvert_exporter": "python",
   "pygments_lexer": "ipython3",
   "version": "3.11.2"
  },
  "orig_nbformat": 4,
  "vscode": {
   "interpreter": {
    "hash": "6c2b476750060a1b5e505667a84d1cbadbda4c8604b5790118ab05460c4cd869"
   }
  }
 },
 "nbformat": 4,
 "nbformat_minor": 2
}
