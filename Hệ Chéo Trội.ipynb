{
 "cells": [
  {
   "cell_type": "code",
   "execution_count": 64,
   "metadata": {},
   "outputs": [],
   "source": [
    "\n",
    "#He cheo troi\n",
    "A = [[ -15.4 , 1 , 6.3] , [ -4.2 , 10.8 , 3.3] , [ -2.4 , 5.3 , 15.9]]\n",
    "b = [30 , 25 , -10]\n",
    "m = lambda i , j : -A [ i ][ j ] / A [ i ][ i ] if i != j else 0\n"
   ]
  },
  {
   "cell_type": "code",
   "execution_count": 65,
   "metadata": {},
   "outputs": [
    {
     "data": {
      "text/plain": [
       "array([[ 0.        ,  0.06493506,  0.40909091],\n",
       "       [ 0.38888889,  0.        , -0.30555556],\n",
       "       [ 0.1509434 , -0.33333333,  0.        ]])"
      ]
     },
     "execution_count": 65,
     "metadata": {},
     "output_type": "execute_result"
    }
   ],
   "source": [
    "import numpy as np\n",
    "B = np . array ([ [ m (i , j ) for j in range (3) ] for i in range (3) ])\n",
    "B"
   ]
  },
  {
   "cell_type": "code",
   "execution_count": 66,
   "metadata": {},
   "outputs": [
    {
     "data": {
      "text/plain": [
       "[-1.948051948051948, 2.314814814814815, -0.6289308176100629]"
      ]
     },
     "execution_count": 66,
     "metadata": {},
     "output_type": "execute_result"
    }
   ],
   "source": [
    "g = [ b [ i ] / A [ i ][ i ] for i in range (3) ]\n",
    "g"
   ]
  },
  {
   "cell_type": "code",
   "execution_count": 67,
   "metadata": {},
   "outputs": [
    {
     "data": {
      "text/plain": [
       "0.6944444444444444"
      ]
     },
     "execution_count": 67,
     "metadata": {},
     "output_type": "execute_result"
    }
   ],
   "source": [
    "q = np . linalg . norm (B , np . inf )\n",
    "q"
   ]
  },
  {
   "cell_type": "code",
   "execution_count": 68,
   "metadata": {},
   "outputs": [
    {
     "name": "stdout",
     "output_type": "stream",
     "text": [
      "[-1.94805195  2.31481481 -0.62893082]\n",
      "[-2.05502918  1.74941236 -1.69458133]\n",
      "[-2.52769156  2.03342554 -1.52226136]\n"
     ]
    }
   ],
   "source": [
    "x = [0 , 0, 0]\n",
    "for _ in range (3) :\n",
    "     x = B .dot ( x ) + g\n",
    "     print ( x )"
   ]
  },
  {
   "cell_type": "code",
   "execution_count": 69,
   "metadata": {},
   "outputs": [
    {
     "name": "stdout",
     "output_type": "stream",
     "text": [
      "[-1.94805195  2.31481481 -0.62893082] 5.26094276094276\n",
      "[-2.05502918  1.74941236 -1.69458133] 2.4219329894001134\n",
      "[-2.52769156  2.03342554 -1.52226136] 1.0742326887266849\n"
     ]
    }
   ],
   "source": [
    "x0 = [0 , 0 , 0] # lưu x\n",
    "for _ in range (3) :\n",
    "     x = B . dot ( x0 ) + g # x\n",
    "     ss = q / (1 - q) * np . linalg . norm ( x - x0 , np . inf )\n",
    "     x0 = x # tiến thêm 1 bước\n",
    "     print (x , ss )"
   ]
  },
  {
   "cell_type": "code",
   "execution_count": 70,
   "metadata": {},
   "outputs": [
    {
     "name": "stdout",
     "output_type": "stream",
     "text": [
      "1 [-1.94805195  2.31481481 -0.62893082] 5.26094276094276\n",
      "2 [-2.05502918  1.74941236 -1.69458133] 2.4219329894001134\n",
      "3 [-2.52769156  2.03342554 -1.52226136] 1.0742326887266849\n",
      "4 [-2.43875461  1.79695907 -1.68827768] 0.5374238079127538\n",
      "5 [-2.52202535  1.88227287 -1.59603108] 0.20965137241702506\n",
      "6 [-2.47874824  1.82170334 -1.63703818] 0.13765801368867453\n",
      "7 [-2.49945696  1.85106328 -1.61031594] 0.06672711991270326\n",
      "8 [-2.48661865  1.83484476 -1.62322843] 0.036860268116862216\n",
      "9 [-2.49295418  1.84378292 -1.6158844 ] 0.020313999410520586\n",
      "10 [-2.4893694   1.83907509 -1.61982009] 0.010699608187099544\n",
      "11 [-2.49128516  1.84167174 -1.61770972] 0.005901483318229957\n",
      "12 [-2.49025321  1.84028189 -1.61886444] 0.0031587593684227625\n",
      "13 [-2.49081585  1.84103603 -1.61824539] 0.0017139662390384313\n",
      "14 [-2.49051363  1.84062808 -1.6185817 ] 0.0009271760305810823\n"
     ]
    }
   ],
   "source": [
    "x0 = [0 , 0 , 0]\n",
    "k = 0\n",
    "while True :\n",
    "     x = B . dot ( x0 ) + g\n",
    "     ss = q / (1 - q) * np . linalg . norm ( x - x0 , np . inf )\n",
    "     x0 = x\n",
    "     k += 1\n",
    "     print (k , x , ss )\n",
    "     if ss < 10** -3:\n",
    "            break\n"
   ]
  },
  {
   "cell_type": "code",
   "execution_count": 71,
   "metadata": {},
   "outputs": [
    {
     "data": {
      "text/latex": [
       "$\\displaystyle 56.0702597648784$"
      ],
      "text/plain": [
       "56.0702597648784"
      ]
     },
     "execution_count": 71,
     "metadata": {},
     "output_type": "execute_result"
    }
   ],
   "source": [
    "x0 = [0 , 0 , 0]\n",
    "x1 = B . dot ( x0 ) + g\n",
    "from sympy import log\n",
    "log ( 10** -8 * (1 - q ) / np . linalg . norm ( x1 - x0 , np . inf ) , q )"
   ]
  },
  {
   "cell_type": "code",
   "execution_count": 72,
   "metadata": {},
   "outputs": [
    {
     "name": "stdout",
     "output_type": "stream",
     "text": [
      "[-1.948051948051948, 0, 0]\n",
      "[-1.948051948051948, 1.5572390572390573, 0]\n",
      "[-1.948051948051948, 1.5572390572390573, -1.4420560804208602]\n",
      "[-2.4368645616501534, 1.5572390572390573, -1.4420560804208602]\n",
      "[-2.4368645616501534, 1.8077735098572403, -1.4420560804208602]\n",
      "[-2.4368645616501534, 1.8077735098572403, -1.5993506006417446]\n",
      "[-2.4849438489731006, 1.8077735098572403, -1.5993506006417446]\n",
      "[-2.4849438489731006, 1.8371382237435865, -1.5993506006417446]\n",
      "[-2.4849438489731006, 1.8371382237435865, -1.6163960895205314]\n",
      "[-2.490010203911413, 1.8371382237435865, -1.6163960895205314]\n",
      "[-2.490010203911413, 1.8403763184249833, -1.6163960895205314]\n",
      "[-2.490010203911413, 1.8403763184249833, -1.6182401872352077]\n"
     ]
    }
   ],
   "source": [
    "x = [0 , 0 , 0]\n",
    "for _ in range (4) : # bước lặp\n",
    "     for i in range (3) : # thành phần\n",
    "         x [ i ] = B [ i ]. dot ( x ) + g [i ] # cập nhật lần lượt từng thành phần\n",
    "         print ( x )"
   ]
  },
  {
   "cell_type": "code",
   "execution_count": null,
   "metadata": {},
   "outputs": [],
   "source": []
  }
 ],
 "metadata": {
  "kernelspec": {
   "display_name": "Python 3",
   "language": "python",
   "name": "python3"
  },
  "language_info": {
   "codemirror_mode": {
    "name": "ipython",
    "version": 3
   },
   "file_extension": ".py",
   "mimetype": "text/x-python",
   "name": "python",
   "nbconvert_exporter": "python",
   "pygments_lexer": "ipython3",
   "version": "3.11.2"
  },
  "orig_nbformat": 4,
  "vscode": {
   "interpreter": {
    "hash": "6c2b476750060a1b5e505667a84d1cbadbda4c8604b5790118ab05460c4cd869"
   }
  }
 },
 "nbformat": 4,
 "nbformat_minor": 2
}
